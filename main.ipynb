{
  "nbformat": 4,
  "nbformat_minor": 0,
  "metadata": {
    "colab": {
      "provenance": [],
      "authorship_tag": "ABX9TyODmB3DKxTMEilbkpdm/hRa",
      "include_colab_link": true
    },
    "kernelspec": {
      "name": "python3",
      "display_name": "Python 3"
    },
    "language_info": {
      "name": "python"
    }
  },
  "cells": [
    {
      "cell_type": "markdown",
      "metadata": {
        "id": "view-in-github",
        "colab_type": "text"
      },
      "source": [
        "<a href=\"https://colab.research.google.com/github/FatimaALzahrani/Predict-weather-states-based-on-daily-temperature-data/blob/main/main.ipynb\" target=\"_parent\"><img src=\"https://colab.research.google.com/assets/colab-badge.svg\" alt=\"Open In Colab\"/></a>"
      ]
    },
    {
      "cell_type": "markdown",
      "source": [
        "# **Daily Temperature Data ⛈️🌡️**"
      ],
      "metadata": {
        "id": "1oDyg3QlUj-p"
      }
    },
    {
      "cell_type": "markdown",
      "source": [
        "This notebook implements a Markov chain model to predict weather states based on daily temperature data. It is structured as follows:\n",
        "\n",
        "**1. Data Preparation:** Synthetic data is generated to represent daily temperatures over 30 days.\n",
        "Data is stored in a structured format using a pandas DataFrame.\n",
        "\n",
        "**2. Data Cleaning:**\n",
        "\n",
        "Handles missing values by replacing them with the mean temperature.\n",
        "\n",
        "Removes duplicate rows to ensure data consistency.\n",
        "\n",
        "Identifies and removes outliers using the Interquartile Range (IQR) method.\n",
        "\n",
        "**3. State Classification:** The temperature is divided into three categories: Cold, Mild, and Warm.\n",
        "A new column (State) is added to classify the weather for each day.\n",
        "\n",
        "**4. Transition Matrix Calculation:** A Markov transition matrix is built to calculate the probabilities of transitioning from one state to another.\n",
        "\n",
        "The matrix is normalized to represent probabilities.\n",
        "\n",
        "**5. Visualizations:**\n",
        "\n",
        "Several plots are created to support the analysis:\n",
        "\n",
        "*Temperature over time:* Shows the daily temperature trends.\n",
        "\n",
        "*State distribution:* Visualizes the frequency of each weather state.\n",
        "\n",
        "*Transition matrix heatmap:* Displays the probabilities of transitioning between states.\n",
        "\n",
        "\n",
        "**6. Weather Prediction:** Using the transition matrix, future weather states are predicted for a given number of days.\n",
        "The prediction process is memoryless, relying only on the current state.\n",
        "\n",
        "**7. Evaluation:**\n",
        "\n",
        "The predicted states are compared to the actual states in the dataset.\n",
        "The error rate is calculated as the proportion of incorrect predictions.\n",
        "\n",
        "**8. Statistical Analysis:**\n",
        "Descriptive statistics (e.g., min, max, mean, standard deviation) are computed to summarize the dataset.\n",
        "Relationships between the data and states are explored.\n",
        "\n",
        "**9. Saving Results:**\n",
        "The cleaned dataset is saved as a CSV file for submission.\n",
        "This ensures reproducibility and compliance with project requirements."
      ],
      "metadata": {
        "id": "b4HUnWk8ZbJq"
      }
    },
    {
      "cell_type": "markdown",
      "source": [
        "## **Python Libraries📚**"
      ],
      "metadata": {
        "id": "6Nomo5ZyU49H"
      }
    },
    {
      "cell_type": "code",
      "source": [
        "import numpy as np\n",
        "import pandas as pd\n",
        "import matplotlib.pyplot as plt\n",
        "import seaborn as sns"
      ],
      "metadata": {
        "id": "OWZgTWo_U4qJ"
      },
      "execution_count": null,
      "outputs": []
    },
    {
      "cell_type": "markdown",
      "source": [
        "## **Import Weather data 🌡️**"
      ],
      "metadata": {
        "id": "JKaY2MZlVFr6"
      }
    },
    {
      "cell_type": "code",
      "source": [
        "# Generate synthetic dataset (daily temperature🌡️)\n",
        "# data = {\n",
        "#     \"Date\": pd.date_range(start=\"2024-01-01\", periods=30),\n",
        "#     \"Temperature\": np.random.randint(5, 35, size=30),  # Random temperatures\n",
        "# }\n",
        "# df = pd.DataFrame(data)"
      ],
      "metadata": {
        "id": "fIji2Zp3VEIi"
      },
      "execution_count": null,
      "outputs": []
    },
    {
      "cell_type": "code",
      "source": [
        "df = pd.read_csv(\"/content/weather_data.csv\")"
      ],
      "metadata": {
        "id": "d2O61j0p7rh5"
      },
      "execution_count": null,
      "outputs": []
    },
    {
      "cell_type": "code",
      "source": [
        "df[\"Temperature\"] = df[\"Temperature_C\"]\n",
        "df[\"Date\"] = df[\"Date_Time\"]"
      ],
      "metadata": {
        "id": "yE8xImgx73b6"
      },
      "execution_count": null,
      "outputs": []
    },
    {
      "cell_type": "code",
      "source": [
        "df"
      ],
      "metadata": {
        "id": "NKLfeMJQTB02"
      },
      "execution_count": null,
      "outputs": []
    },
    {
      "cell_type": "markdown",
      "source": [
        "## **Data Cleaning🧹**"
      ],
      "metadata": {
        "id": "snjCx2ziXaDh"
      }
    },
    {
      "cell_type": "code",
      "source": [
        "print(\"\\nDataset Statistics:\")\n",
        "print(df.describe())"
      ],
      "metadata": {
        "id": "UDRlKFhATGqY"
      },
      "execution_count": null,
      "outputs": []
    },
    {
      "cell_type": "markdown",
      "source": [
        "### a. Handle missing values (if any)"
      ],
      "metadata": {
        "id": "60_8YekLXkLe"
      }
    },
    {
      "cell_type": "code",
      "source": [
        "if df[\"Temperature\"].isnull().sum() > 0:\n",
        "    df[\"Temperature\"] = df[\"Temperature\"].fillna(df[\"Temperature\"].mean())"
      ],
      "metadata": {
        "id": "GUpSRxCMXxmr"
      },
      "execution_count": null,
      "outputs": []
    },
    {
      "cell_type": "markdown",
      "source": [
        "### b. Remove duplicate rows (if any)"
      ],
      "metadata": {
        "id": "NR4tJmJCXnOp"
      }
    },
    {
      "cell_type": "code",
      "source": [
        "df = df.drop_duplicates()"
      ],
      "metadata": {
        "id": "njNqYhX9XuaT"
      },
      "execution_count": null,
      "outputs": []
    },
    {
      "cell_type": "markdown",
      "source": [
        "### c. Detect and handle outliers using IQR"
      ],
      "metadata": {
        "id": "zKj-_yKWXqPc"
      }
    },
    {
      "cell_type": "code",
      "source": [
        "Q1 = df[\"Temperature\"].quantile(0.25)\n",
        "Q3 = df[\"Temperature\"].quantile(0.75)\n",
        "IQR = Q3 - Q1\n",
        "lower_bound = Q1 - 1.5 * IQR\n",
        "upper_bound = Q3 + 1.5 * IQR\n",
        "\n",
        "# Remove outliers\n",
        "df = df[(df[\"Temperature\"] >= lower_bound) & (df[\"Temperature\"] <= upper_bound)]"
      ],
      "metadata": {
        "id": "nNqr4pyRXZri"
      },
      "execution_count": null,
      "outputs": []
    },
    {
      "cell_type": "markdown",
      "source": [
        "## **Define temperature states (Cold, Mild, Warm) ❄️🔥**"
      ],
      "metadata": {
        "id": "NXZ8vviaVe5U"
      }
    },
    {
      "cell_type": "code",
      "source": [
        "def classify_temp(temp):\n",
        "    if temp < 15:\n",
        "        return \"Cold\"\n",
        "    elif 15 <= temp <= 25:\n",
        "        return \"Mild\"\n",
        "    else:\n",
        "        return \"Warm\"\n",
        "\n",
        "df[\"State\"] = df[\"Temperature\"].apply(classify_temp)"
      ],
      "metadata": {
        "id": "--oK20PlVuvv"
      },
      "execution_count": null,
      "outputs": []
    },
    {
      "cell_type": "markdown",
      "source": [
        "## **Calculate transition probabilities (Markov Transition Matrix) 🧮**"
      ],
      "metadata": {
        "id": "J8K2mGDaVvw4"
      }
    },
    {
      "cell_type": "code",
      "source": [
        "states = [\"Cold\", \"Mild\", \"Warm\"]\n",
        "transition_matrix = pd.DataFrame(0, index=states, columns=states)\n",
        "\n",
        "for (state1, state2) in zip(df[\"State\"][:-1], df[\"State\"][1:]):\n",
        "    transition_matrix.loc[state1, state2] += 1\n",
        "\n",
        "# Normalize the matrix (convert counts to probabilities)\n",
        "transition_matrix = transition_matrix.div(transition_matrix.sum(axis=1), axis=0)"
      ],
      "metadata": {
        "id": "-8WpEGIZWAFp"
      },
      "execution_count": null,
      "outputs": []
    },
    {
      "cell_type": "code",
      "source": [
        "transition_matrix"
      ],
      "metadata": {
        "colab": {
          "base_uri": "https://localhost:8080/",
          "height": 143
        },
        "id": "sO64N2D580au",
        "outputId": "139d38f4-50db-4e39-d691-45cc0acd633a"
      },
      "execution_count": null,
      "outputs": [
        {
          "output_type": "execute_result",
          "data": {
            "text/plain": [
              "          Cold      Mild      Warm\n",
              "Cold  0.502759  0.198841  0.298400\n",
              "Mild  0.504066  0.205573  0.290361\n",
              "Warm  0.505401  0.198994  0.295606"
            ],
            "text/html": [
              "\n",
              "  <div id=\"df-6f00f753-7023-4481-aa00-396e3b50855d\" class=\"colab-df-container\">\n",
              "    <div>\n",
              "<style scoped>\n",
              "    .dataframe tbody tr th:only-of-type {\n",
              "        vertical-align: middle;\n",
              "    }\n",
              "\n",
              "    .dataframe tbody tr th {\n",
              "        vertical-align: top;\n",
              "    }\n",
              "\n",
              "    .dataframe thead th {\n",
              "        text-align: right;\n",
              "    }\n",
              "</style>\n",
              "<table border=\"1\" class=\"dataframe\">\n",
              "  <thead>\n",
              "    <tr style=\"text-align: right;\">\n",
              "      <th></th>\n",
              "      <th>Cold</th>\n",
              "      <th>Mild</th>\n",
              "      <th>Warm</th>\n",
              "    </tr>\n",
              "  </thead>\n",
              "  <tbody>\n",
              "    <tr>\n",
              "      <th>Cold</th>\n",
              "      <td>0.502759</td>\n",
              "      <td>0.198841</td>\n",
              "      <td>0.298400</td>\n",
              "    </tr>\n",
              "    <tr>\n",
              "      <th>Mild</th>\n",
              "      <td>0.504066</td>\n",
              "      <td>0.205573</td>\n",
              "      <td>0.290361</td>\n",
              "    </tr>\n",
              "    <tr>\n",
              "      <th>Warm</th>\n",
              "      <td>0.505401</td>\n",
              "      <td>0.198994</td>\n",
              "      <td>0.295606</td>\n",
              "    </tr>\n",
              "  </tbody>\n",
              "</table>\n",
              "</div>\n",
              "    <div class=\"colab-df-buttons\">\n",
              "\n",
              "  <div class=\"colab-df-container\">\n",
              "    <button class=\"colab-df-convert\" onclick=\"convertToInteractive('df-6f00f753-7023-4481-aa00-396e3b50855d')\"\n",
              "            title=\"Convert this dataframe to an interactive table.\"\n",
              "            style=\"display:none;\">\n",
              "\n",
              "  <svg xmlns=\"http://www.w3.org/2000/svg\" height=\"24px\" viewBox=\"0 -960 960 960\">\n",
              "    <path d=\"M120-120v-720h720v720H120Zm60-500h600v-160H180v160Zm220 220h160v-160H400v160Zm0 220h160v-160H400v160ZM180-400h160v-160H180v160Zm440 0h160v-160H620v160ZM180-180h160v-160H180v160Zm440 0h160v-160H620v160Z\"/>\n",
              "  </svg>\n",
              "    </button>\n",
              "\n",
              "  <style>\n",
              "    .colab-df-container {\n",
              "      display:flex;\n",
              "      gap: 12px;\n",
              "    }\n",
              "\n",
              "    .colab-df-convert {\n",
              "      background-color: #E8F0FE;\n",
              "      border: none;\n",
              "      border-radius: 50%;\n",
              "      cursor: pointer;\n",
              "      display: none;\n",
              "      fill: #1967D2;\n",
              "      height: 32px;\n",
              "      padding: 0 0 0 0;\n",
              "      width: 32px;\n",
              "    }\n",
              "\n",
              "    .colab-df-convert:hover {\n",
              "      background-color: #E2EBFA;\n",
              "      box-shadow: 0px 1px 2px rgba(60, 64, 67, 0.3), 0px 1px 3px 1px rgba(60, 64, 67, 0.15);\n",
              "      fill: #174EA6;\n",
              "    }\n",
              "\n",
              "    .colab-df-buttons div {\n",
              "      margin-bottom: 4px;\n",
              "    }\n",
              "\n",
              "    [theme=dark] .colab-df-convert {\n",
              "      background-color: #3B4455;\n",
              "      fill: #D2E3FC;\n",
              "    }\n",
              "\n",
              "    [theme=dark] .colab-df-convert:hover {\n",
              "      background-color: #434B5C;\n",
              "      box-shadow: 0px 1px 3px 1px rgba(0, 0, 0, 0.15);\n",
              "      filter: drop-shadow(0px 1px 2px rgba(0, 0, 0, 0.3));\n",
              "      fill: #FFFFFF;\n",
              "    }\n",
              "  </style>\n",
              "\n",
              "    <script>\n",
              "      const buttonEl =\n",
              "        document.querySelector('#df-6f00f753-7023-4481-aa00-396e3b50855d button.colab-df-convert');\n",
              "      buttonEl.style.display =\n",
              "        google.colab.kernel.accessAllowed ? 'block' : 'none';\n",
              "\n",
              "      async function convertToInteractive(key) {\n",
              "        const element = document.querySelector('#df-6f00f753-7023-4481-aa00-396e3b50855d');\n",
              "        const dataTable =\n",
              "          await google.colab.kernel.invokeFunction('convertToInteractive',\n",
              "                                                    [key], {});\n",
              "        if (!dataTable) return;\n",
              "\n",
              "        const docLinkHtml = 'Like what you see? Visit the ' +\n",
              "          '<a target=\"_blank\" href=https://colab.research.google.com/notebooks/data_table.ipynb>data table notebook</a>'\n",
              "          + ' to learn more about interactive tables.';\n",
              "        element.innerHTML = '';\n",
              "        dataTable['output_type'] = 'display_data';\n",
              "        await google.colab.output.renderOutput(dataTable, element);\n",
              "        const docLink = document.createElement('div');\n",
              "        docLink.innerHTML = docLinkHtml;\n",
              "        element.appendChild(docLink);\n",
              "      }\n",
              "    </script>\n",
              "  </div>\n",
              "\n",
              "\n",
              "<div id=\"df-06db99fa-e0a8-49d0-a83e-90833395f43e\">\n",
              "  <button class=\"colab-df-quickchart\" onclick=\"quickchart('df-06db99fa-e0a8-49d0-a83e-90833395f43e')\"\n",
              "            title=\"Suggest charts\"\n",
              "            style=\"display:none;\">\n",
              "\n",
              "<svg xmlns=\"http://www.w3.org/2000/svg\" height=\"24px\"viewBox=\"0 0 24 24\"\n",
              "     width=\"24px\">\n",
              "    <g>\n",
              "        <path d=\"M19 3H5c-1.1 0-2 .9-2 2v14c0 1.1.9 2 2 2h14c1.1 0 2-.9 2-2V5c0-1.1-.9-2-2-2zM9 17H7v-7h2v7zm4 0h-2V7h2v10zm4 0h-2v-4h2v4z\"/>\n",
              "    </g>\n",
              "</svg>\n",
              "  </button>\n",
              "\n",
              "<style>\n",
              "  .colab-df-quickchart {\n",
              "      --bg-color: #E8F0FE;\n",
              "      --fill-color: #1967D2;\n",
              "      --hover-bg-color: #E2EBFA;\n",
              "      --hover-fill-color: #174EA6;\n",
              "      --disabled-fill-color: #AAA;\n",
              "      --disabled-bg-color: #DDD;\n",
              "  }\n",
              "\n",
              "  [theme=dark] .colab-df-quickchart {\n",
              "      --bg-color: #3B4455;\n",
              "      --fill-color: #D2E3FC;\n",
              "      --hover-bg-color: #434B5C;\n",
              "      --hover-fill-color: #FFFFFF;\n",
              "      --disabled-bg-color: #3B4455;\n",
              "      --disabled-fill-color: #666;\n",
              "  }\n",
              "\n",
              "  .colab-df-quickchart {\n",
              "    background-color: var(--bg-color);\n",
              "    border: none;\n",
              "    border-radius: 50%;\n",
              "    cursor: pointer;\n",
              "    display: none;\n",
              "    fill: var(--fill-color);\n",
              "    height: 32px;\n",
              "    padding: 0;\n",
              "    width: 32px;\n",
              "  }\n",
              "\n",
              "  .colab-df-quickchart:hover {\n",
              "    background-color: var(--hover-bg-color);\n",
              "    box-shadow: 0 1px 2px rgba(60, 64, 67, 0.3), 0 1px 3px 1px rgba(60, 64, 67, 0.15);\n",
              "    fill: var(--button-hover-fill-color);\n",
              "  }\n",
              "\n",
              "  .colab-df-quickchart-complete:disabled,\n",
              "  .colab-df-quickchart-complete:disabled:hover {\n",
              "    background-color: var(--disabled-bg-color);\n",
              "    fill: var(--disabled-fill-color);\n",
              "    box-shadow: none;\n",
              "  }\n",
              "\n",
              "  .colab-df-spinner {\n",
              "    border: 2px solid var(--fill-color);\n",
              "    border-color: transparent;\n",
              "    border-bottom-color: var(--fill-color);\n",
              "    animation:\n",
              "      spin 1s steps(1) infinite;\n",
              "  }\n",
              "\n",
              "  @keyframes spin {\n",
              "    0% {\n",
              "      border-color: transparent;\n",
              "      border-bottom-color: var(--fill-color);\n",
              "      border-left-color: var(--fill-color);\n",
              "    }\n",
              "    20% {\n",
              "      border-color: transparent;\n",
              "      border-left-color: var(--fill-color);\n",
              "      border-top-color: var(--fill-color);\n",
              "    }\n",
              "    30% {\n",
              "      border-color: transparent;\n",
              "      border-left-color: var(--fill-color);\n",
              "      border-top-color: var(--fill-color);\n",
              "      border-right-color: var(--fill-color);\n",
              "    }\n",
              "    40% {\n",
              "      border-color: transparent;\n",
              "      border-right-color: var(--fill-color);\n",
              "      border-top-color: var(--fill-color);\n",
              "    }\n",
              "    60% {\n",
              "      border-color: transparent;\n",
              "      border-right-color: var(--fill-color);\n",
              "    }\n",
              "    80% {\n",
              "      border-color: transparent;\n",
              "      border-right-color: var(--fill-color);\n",
              "      border-bottom-color: var(--fill-color);\n",
              "    }\n",
              "    90% {\n",
              "      border-color: transparent;\n",
              "      border-bottom-color: var(--fill-color);\n",
              "    }\n",
              "  }\n",
              "</style>\n",
              "\n",
              "  <script>\n",
              "    async function quickchart(key) {\n",
              "      const quickchartButtonEl =\n",
              "        document.querySelector('#' + key + ' button');\n",
              "      quickchartButtonEl.disabled = true;  // To prevent multiple clicks.\n",
              "      quickchartButtonEl.classList.add('colab-df-spinner');\n",
              "      try {\n",
              "        const charts = await google.colab.kernel.invokeFunction(\n",
              "            'suggestCharts', [key], {});\n",
              "      } catch (error) {\n",
              "        console.error('Error during call to suggestCharts:', error);\n",
              "      }\n",
              "      quickchartButtonEl.classList.remove('colab-df-spinner');\n",
              "      quickchartButtonEl.classList.add('colab-df-quickchart-complete');\n",
              "    }\n",
              "    (() => {\n",
              "      let quickchartButtonEl =\n",
              "        document.querySelector('#df-06db99fa-e0a8-49d0-a83e-90833395f43e button');\n",
              "      quickchartButtonEl.style.display =\n",
              "        google.colab.kernel.accessAllowed ? 'block' : 'none';\n",
              "    })();\n",
              "  </script>\n",
              "</div>\n",
              "\n",
              "  <div id=\"id_4070a91c-b8a7-4010-b6a0-050ce3bf1359\">\n",
              "    <style>\n",
              "      .colab-df-generate {\n",
              "        background-color: #E8F0FE;\n",
              "        border: none;\n",
              "        border-radius: 50%;\n",
              "        cursor: pointer;\n",
              "        display: none;\n",
              "        fill: #1967D2;\n",
              "        height: 32px;\n",
              "        padding: 0 0 0 0;\n",
              "        width: 32px;\n",
              "      }\n",
              "\n",
              "      .colab-df-generate:hover {\n",
              "        background-color: #E2EBFA;\n",
              "        box-shadow: 0px 1px 2px rgba(60, 64, 67, 0.3), 0px 1px 3px 1px rgba(60, 64, 67, 0.15);\n",
              "        fill: #174EA6;\n",
              "      }\n",
              "\n",
              "      [theme=dark] .colab-df-generate {\n",
              "        background-color: #3B4455;\n",
              "        fill: #D2E3FC;\n",
              "      }\n",
              "\n",
              "      [theme=dark] .colab-df-generate:hover {\n",
              "        background-color: #434B5C;\n",
              "        box-shadow: 0px 1px 3px 1px rgba(0, 0, 0, 0.15);\n",
              "        filter: drop-shadow(0px 1px 2px rgba(0, 0, 0, 0.3));\n",
              "        fill: #FFFFFF;\n",
              "      }\n",
              "    </style>\n",
              "    <button class=\"colab-df-generate\" onclick=\"generateWithVariable('transition_matrix')\"\n",
              "            title=\"Generate code using this dataframe.\"\n",
              "            style=\"display:none;\">\n",
              "\n",
              "  <svg xmlns=\"http://www.w3.org/2000/svg\" height=\"24px\"viewBox=\"0 0 24 24\"\n",
              "       width=\"24px\">\n",
              "    <path d=\"M7,19H8.4L18.45,9,17,7.55,7,17.6ZM5,21V16.75L18.45,3.32a2,2,0,0,1,2.83,0l1.4,1.43a1.91,1.91,0,0,1,.58,1.4,1.91,1.91,0,0,1-.58,1.4L9.25,21ZM18.45,9,17,7.55Zm-12,3A5.31,5.31,0,0,0,4.9,8.1,5.31,5.31,0,0,0,1,6.5,5.31,5.31,0,0,0,4.9,4.9,5.31,5.31,0,0,0,6.5,1,5.31,5.31,0,0,0,8.1,4.9,5.31,5.31,0,0,0,12,6.5,5.46,5.46,0,0,0,6.5,12Z\"/>\n",
              "  </svg>\n",
              "    </button>\n",
              "    <script>\n",
              "      (() => {\n",
              "      const buttonEl =\n",
              "        document.querySelector('#id_4070a91c-b8a7-4010-b6a0-050ce3bf1359 button.colab-df-generate');\n",
              "      buttonEl.style.display =\n",
              "        google.colab.kernel.accessAllowed ? 'block' : 'none';\n",
              "\n",
              "      buttonEl.onclick = () => {\n",
              "        google.colab.notebook.generateWithVariable('transition_matrix');\n",
              "      }\n",
              "      })();\n",
              "    </script>\n",
              "  </div>\n",
              "\n",
              "    </div>\n",
              "  </div>\n"
            ],
            "application/vnd.google.colaboratory.intrinsic+json": {
              "type": "dataframe",
              "variable_name": "transition_matrix",
              "summary": "{\n  \"name\": \"transition_matrix\",\n  \"rows\": 3,\n  \"fields\": [\n    {\n      \"column\": \"Cold\",\n      \"properties\": {\n        \"dtype\": \"number\",\n        \"std\": 0.0013209876109950953,\n        \"min\": 0.502758946870566,\n        \"max\": 0.5054008721905401,\n        \"num_unique_values\": 3,\n        \"samples\": [\n          0.502758946870566,\n          0.5040658468861563,\n          0.5054008721905401\n        ],\n        \"semantic_type\": \"\",\n        \"description\": \"\"\n      }\n    },\n    {\n      \"column\": \"Mild\",\n      \"properties\": {\n        \"dtype\": \"number\",\n        \"std\": 0.003843454877765854,\n        \"min\": 0.1988412423143623,\n        \"max\": 0.20557318524395082,\n        \"num_unique_values\": 3,\n        \"samples\": [\n          0.1988412423143623,\n          0.20557318524395082,\n          0.19899362629989936\n        ],\n        \"semantic_type\": \"\",\n        \"description\": \"\"\n      }\n    },\n    {\n      \"column\": \"Warm\",\n      \"properties\": {\n        \"dtype\": \"number\",\n        \"std\": 0.0040811822937665805,\n        \"min\": 0.2903609678698929,\n        \"max\": 0.2983998108150717,\n        \"num_unique_values\": 3,\n        \"samples\": [\n          0.2983998108150717,\n          0.2903609678698929,\n          0.29560550150956055\n        ],\n        \"semantic_type\": \"\",\n        \"description\": \"\"\n      }\n    }\n  ]\n}"
            }
          },
          "metadata": {},
          "execution_count": 89
        }
      ]
    },
    {
      "cell_type": "markdown",
      "source": [
        "## **Visualizations 📊**"
      ],
      "metadata": {
        "id": "kxP4B34KX6xX"
      }
    },
    {
      "cell_type": "markdown",
      "source": [
        "### a. Temperature Over Time"
      ],
      "metadata": {
        "id": "HbpM01H0YL70"
      }
    },
    {
      "cell_type": "code",
      "source": [
        "plt.figure(figsize=(10, 6))\n",
        "plt.plot(df[\"Date\"], df[\"Temperature\"], marker='o', label=\"Temperature\")\n",
        "plt.axhline(y=15, color='blue', linestyle='--', label=\"Cold/Warm Boundary\")\n",
        "plt.axhline(y=25, color='orange', linestyle='--', label=\"Mild/Warm Boundary\")\n",
        "plt.title(\"Daily Temperature Over Time\")\n",
        "plt.xlabel(\"Date\")\n",
        "plt.ylabel(\"Temperature (°C)\")\n",
        "plt.legend()\n",
        "plt.grid()\n",
        "plt.show()"
      ],
      "metadata": {
        "colab": {
          "base_uri": "https://localhost:8080/",
          "height": 564
        },
        "id": "8BZNJlpyYRUr",
        "outputId": "f4bbf0a4-9739-4016-efec-4bca35d49dd6",
        "collapsed": true
      },
      "execution_count": null,
      "outputs": [
        {
          "output_type": "display_data",
          "data": {
            "text/plain": [
              "<Figure size 1000x600 with 1 Axes>"
            ],
            "image/png": "[encoded data removed]"
          },
          "metadata": {}
        }
      ]
    },
    {
      "cell_type": "markdown",
      "source": [
        "### b. State Distribution\n"
      ],
      "metadata": {
        "id": "qZ-tn6YXYOPR"
      }
    },
    {
      "cell_type": "code",
      "source": [
        "plt.figure(figsize=(8, 6))\n",
        "sns.countplot(x=\"State\", data=df, palette=\"viridis\")\n",
        "plt.title(\"State Distribution\")\n",
        "plt.xlabel(\"State\")\n",
        "plt.ylabel(\"Frequency\")\n",
        "plt.show()"
      ],
      "metadata": {
        "colab": {
          "base_uri": "https://localhost:8080/",
          "height": 675
        },
        "id": "O__abO4xYTCg",
        "outputId": "7e9a2685-24ee-474c-959a-897601044cd5"
      },
      "execution_count": null,
      "outputs": [
        {
          "output_type": "stream",
          "name": "stderr",
          "text": [
            "<ipython-input-91-6ca18880a4bf>:2: FutureWarning: \n",
            "\n",
            "Passing `palette` without assigning `hue` is deprecated and will be removed in v0.14.0. Assign the `x` variable to `hue` and set `legend=False` for the same effect.\n",
            "\n",
            "  sns.countplot(x=\"State\", data=df, palette=\"viridis\")\n"
          ]
        },
        {
          "output_type": "display_data",
          "data": {
            "text/plain": [
              "<Figure size 800x600 with 1 Axes>"
            ],
            "image/png": "[encoded data removed]"
          },
          "metadata": {}
        }
      ]
    },
    {
      "cell_type": "markdown",
      "source": [
        "### c. Transition Matrix Heatmap"
      ],
      "metadata": {
        "id": "aQbxO75qYP3q"
      }
    },
    {
      "cell_type": "code",
      "source": [
        "plt.figure(figsize=(8, 6))\n",
        "sns.heatmap(transition_matrix, annot=True, cmap=\"YlGnBu\", fmt=\".2f\")\n",
        "plt.title(\"Transition Matrix Heatmap\")\n",
        "plt.xlabel(\"Next State\")\n",
        "plt.ylabel(\"Current State\")\n",
        "plt.show()"
      ],
      "metadata": {
        "colab": {
          "base_uri": "https://localhost:8080/",
          "height": 564
        },
        "id": "UJf23HRnX-_N",
        "outputId": "932d605e-ae53-4666-e083-b96c6eaa6545"
      },
      "execution_count": null,
      "outputs": [
        {
          "output_type": "display_data",
          "data": {
            "text/plain": [
              "<Figure size 800x600 with 2 Axes>"
            ],
            "image/png": "[encoded data removed]"
          },
          "metadata": {}
        }
      ]
    },
    {
      "cell_type": "markdown",
      "source": [
        "## **Implement the Markov Chain prediction model 🤖**"
      ],
      "metadata": {
        "id": "dBy5TQnHWBD6"
      }
    },
    {
      "cell_type": "code",
      "source": [
        "def predict_weather(start_state, days):\n",
        "    current_state = start_state\n",
        "    predictions = [current_state]\n",
        "\n",
        "    for _ in range(days - 1):\n",
        "        current_state = np.random.choice(\n",
        "            states, p=transition_matrix.loc[current_state]\n",
        "        )\n",
        "        predictions.append(current_state)\n",
        "\n",
        "    return predictions"
      ],
      "metadata": {
        "id": "iNtbi0gqWYlZ"
      },
      "execution_count": null,
      "outputs": []
    },
    {
      "cell_type": "markdown",
      "source": [
        "## **Start predictions (for 10 days starting from 'Cold')❄️**"
      ],
      "metadata": {
        "id": "Np8KHT2MWPWm"
      }
    },
    {
      "cell_type": "code",
      "source": [
        "predicted_states = predict_weather(\"Mild\", 10)"
      ],
      "metadata": {
        "id": "DGcBsbD1WbUy"
      },
      "execution_count": null,
      "outputs": []
    },
    {
      "cell_type": "markdown",
      "source": [
        "## **Evaluate the error rate (compare with actual states)📉**"
      ],
      "metadata": {
        "id": "Ucq0Ei9_WeVS"
      }
    },
    {
      "cell_type": "code",
      "execution_count": null,
      "metadata": {
        "id": "O3wfxZB-Uf-5"
      },
      "outputs": [],
      "source": [
        "actual_states = df[\"State\"][:10]  # First 10 states from the dataset\n",
        "false_predictions = sum(1 for pred, actual in zip(predicted_states, actual_states) if pred != actual)\n",
        "error_rate = false_predictions / len(actual_states)"
      ]
    },
    {
      "cell_type": "markdown",
      "source": [
        "### Display results"
      ],
      "metadata": {
        "id": "R60fn1WKXC2J"
      }
    },
    {
      "cell_type": "code",
      "source": [
        "print(\"Transition Matrix:\\n\", transition_matrix)\n",
        "print(\"\\nPredicted States:\", predicted_states)\n",
        "print(\"\\nActual States:\", list(actual_states))\n",
        "print(\"\\nError Rate:\", error_rate)"
      ],
      "metadata": {
        "colab": {
          "base_uri": "https://localhost:8080/"
        },
        "id": "m1kHducRXIOg",
        "outputId": "07c9e5ee-6b0e-40ed-a7cb-7e6073cc1af4"
      },
      "execution_count": null,
      "outputs": [
        {
          "output_type": "stream",
          "name": "stdout",
          "text": [
            "Transition Matrix:\n",
            "           Cold      Mild      Warm\n",
            "Cold  0.502759  0.198841  0.298400\n",
            "Mild  0.504066  0.205573  0.290361\n",
            "Warm  0.505401  0.198994  0.295606\n",
            "\n",
            "Predicted States: ['Mild', 'Cold', 'Cold', 'Cold', 'Cold', 'Cold', 'Warm', 'Cold', 'Cold', 'Cold']\n",
            "\n",
            "Actual States: ['Cold', 'Cold', 'Cold', 'Cold', 'Warm', 'Warm', 'Cold', 'Cold', 'Cold', 'Cold']\n",
            "\n",
            "Error Rate: 0.4\n"
          ]
        }
      ]
    },
    {
      "cell_type": "markdown",
      "source": [
        "### Save dataset to CSV for submission"
      ],
      "metadata": {
        "id": "T1OztK17XFez"
      }
    },
    {
      "cell_type": "code",
      "source": [
        "df.to_csv(\"temperature_dataset.csv\", index=False)"
      ],
      "metadata": {
        "id": "cfrla6X_XKBz"
      },
      "execution_count": null,
      "outputs": []
    },
    {
      "cell_type": "code",
      "source": [
        "# Additional statistics\n",
        "\n",
        "\n",
        "# Boxplot to visualize temperature distribution\n",
        "plt.figure(figsize=(8, 6))\n",
        "sns.boxplot(x=df[\"Temperature\"], palette=\"coolwarm\")\n",
        "plt.title(\"Temperature Distribution\")\n",
        "plt.xlabel(\"Temperature (°C)\")\n",
        "plt.show()"
      ],
      "metadata": {
        "colab": {
          "base_uri": "https://localhost:8080/",
          "height": 1000
        },
        "id": "QzWOnM64YxRG",
        "outputId": "3f66f287-094f-46f3-d0d0-d0649845cc79"
      },
      "execution_count": null,
      "outputs": [
        {
          "output_type": "stream",
          "name": "stdout",
          "text": [
            "\n",
            "Dataset Statistics:\n",
            "       Temperature_C  Humidity_pct  Precipitation_mm  Wind_Speed_kmh  \\\n",
            "count   50361.000000  50361.000000      50361.000000    50361.000000   \n",
            "mean       14.794853     60.121012          5.118433       15.020588   \n",
            "std        14.469207     17.329384          2.947153        8.691356   \n",
            "min       -19.700813     30.001412          0.000009        0.000334   \n",
            "25%         2.300761     45.172583          2.586701        7.465440   \n",
            "50%        14.814426     60.156718          5.121573       15.009565   \n",
            "75%        27.183842     75.167565          7.628836       22.620917   \n",
            "max        39.999642     89.999082         14.837122       29.999157   \n",
            "\n",
            "        Temperature  \n",
            "count  50362.000000  \n",
            "mean      14.794853  \n",
            "std       14.469063  \n",
            "min      -19.700813  \n",
            "25%        2.300990  \n",
            "50%       14.813034  \n",
            "75%       27.183789  \n",
            "max       39.999642  \n"
          ]
        },
        {
          "output_type": "stream",
          "name": "stderr",
          "text": [
            "<ipython-input-98-a1a19ec32fad>:7: FutureWarning: \n",
            "\n",
            "Passing `palette` without assigning `hue` is deprecated and will be removed in v0.14.0. Assign the `y` variable to `hue` and set `legend=False` for the same effect.\n",
            "\n",
            "  sns.boxplot(x=df[\"Temperature\"], palette=\"coolwarm\")\n"
          ]
        },
        {
          "output_type": "display_data",
          "data": {
            "text/plain": [
              "<Figure size 800x600 with 1 Axes>"
            ],
            "image/png": "[encoded data removed]"
          },
          "metadata": {}
        }
      ]
    }
  ]
}